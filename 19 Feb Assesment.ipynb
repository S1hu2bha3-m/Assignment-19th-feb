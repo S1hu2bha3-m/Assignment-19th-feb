{
 "cells": [
  {
   "cell_type": "markdown",
   "id": "9c394c09-a60e-4bd0-b491-821c8e9c4121",
   "metadata": {},
   "source": [
    "Q1. What is Flask Framework? What are the advantages of Flask Framework?"
   ]
  },
  {
   "cell_type": "markdown",
   "id": "8afc6cfc-faa4-401b-b353-2180665184f1",
   "metadata": {},
   "source": [
    "Ans. Flask is a micro web framework for Python, designed to be lightweight, flexible, and easy to use. It is used for building web applications and APIs.\n",
    "Advantages of Flask Framework:\n",
    "\n",
    "Simplicity and Minimalism: Flask follows the \"Keep It Simple\" philosophy, meaning it provides only the essentials for web development. This minimalistic approach makes it easy to learn and use, especially for beginners.\n",
    "\n",
    "Lightweight: Flask has a small core and doesn't impose a lot of dependencies. It allows developers to add only the components they need, which results in faster application development and reduced overhead.\n",
    "\n",
    "Flexibility: Flask doesn't dictate a particular way of doing things, giving developers the freedom to choose the tools and libraries they prefer. This flexibility is particularly useful when integrating with other components or third-party extensions."
   ]
  },
  {
   "cell_type": "markdown",
   "id": "337203cc-9817-43b0-8d3a-3b273208e72b",
   "metadata": {},
   "source": [
    "Q2. Create a simple Flask application to display ‘Hello World!!’. Attach the screenshot of the output in\n",
    "Jupyter Notebook."
   ]
  },
  {
   "cell_type": "markdown",
   "id": "02c18eb1-005a-4d59-88f1-a55dcab1ea87",
   "metadata": {},
   "source": [
    "![](Screenshot11.png)\n",
    "![](Screenshot12.png)\n",
    "\n"
   ]
  },
  {
   "cell_type": "markdown",
   "id": "e6d687a4-a21f-4421-adbf-700cd07a13d4",
   "metadata": {},
   "source": [
    "Q3. What is App routing in Flask? Why do we use app routes?"
   ]
  },
  {
   "cell_type": "markdown",
   "id": "f5d613e5-253b-44d6-a50f-a9ec1429ecfc",
   "metadata": {},
   "source": [
    "Ans. In Flask, app routing refers to the process of defining URL patterns and associating them with specific view functions, also known as routes or endpoints. When a user makes a request to a particular URL on your Flask application, the app routing mechanism determines which view function should handle that specific request.\n",
    "Using app routes provides several benefits:\n",
    "\n",
    "Modularity: App routes allow you to organize your code into smaller, manageable functions. Each route is responsible for handling a specific URL, making it easier to maintain and update your application.\n",
    "\n",
    "Readability: App routes make it clear what each URL endpoint does and how it is handled by the application. This improves the code's readability and makes it more understandable for other developers.\n",
    "\n",
    "Flexibility: With app routes, you can easily add new pages or functionalities to your web application by defining new routes and view functions.\n",
    "\n",
    "RESTful API: When building RESTful APIs, app routes are used to define different HTTP methods (GET, POST, PUT, DELETE, etc.) for various resources.\n",
    "\n",
    "Overall, app routing in Flask is a fundamental concept that helps you create a well-structured and functional web application or API by mapping URLs to specific functionalities.\n",
    "\n",
    "\n",
    "\n",
    "\n",
    "\n",
    "\n"
   ]
  },
  {
   "cell_type": "raw",
   "id": "8b6b1b48-4fbf-44fd-a731-7b9f0ff5fab9",
   "metadata": {},
   "source": [
    "Q4. Create a “/welcome” route to display the welcome message “Welcome to ABC Corporation” and a “/”\n",
    "route to show the following details:\n",
    "Company Name: ABC Corporation\n",
    "Location: India\n",
    "Contact Detail: 999-999-9999\n",
    "Attach the screenshot of the output in Jupyter Notebook."
   ]
  },
  {
   "cell_type": "markdown",
   "id": "0cca619b-f882-4b1b-93de-35ff1d356e5b",
   "metadata": {},
   "source": [
    "![](Screenshot01.png)"
   ]
  },
  {
   "cell_type": "markdown",
   "id": "2077f3b9-ee77-4656-b21b-b2e17e9c57c3",
   "metadata": {},
   "source": [
    "![](Screenshot02.png)"
   ]
  },
  {
   "cell_type": "markdown",
   "id": "f3e8e42d-7ff0-45da-9937-84920b4e5259",
   "metadata": {},
   "source": [
    "![](Screenshot03.png)"
   ]
  },
  {
   "cell_type": "markdown",
   "id": "86f6b589-4889-4770-9607-c0bf77177c70",
   "metadata": {},
   "source": [
    "Q5. What function is used in Flask for URL Building? Write a Python code to demonstrate the working of the\n",
    "url_for() function."
   ]
  },
  {
   "cell_type": "raw",
   "id": "b8493a53-c309-435c-bed2-a3af00d4b905",
   "metadata": {},
   "source": [
    "Ans. In Flask, the url_for() function is used for URL building. It generates a URL for the given endpoint, taking into account any route parameters that are defined in your application's routes.\n",
    "from flask import Flask, url_for\n",
    "\n",
    "app = Flask(__name__)\n",
    "\n",
    "@app.route('/')\n",
    "def index():\n",
    "    return \"Welcome to the homepage!\"\n",
    "\n",
    "@app.route('/user/<username>')\n",
    "def profile(username):\n",
    "    return f\"Hello, {username}!\"\n",
    "\n",
    "if __name__ == '__main__':\n",
    "    with app.test_request_context():\n",
    "        # Using url_for() to generate URLs for the defined routes\n",
    "        index_url = url_for('index')\n",
    "        profile_url = url_for('profile', username='john_doe')\n",
    "        \n",
    "        print(\"Generated URLs:\")\n",
    "        print(f\"Index URL: {index_url}\")\n",
    "        print(f\"Profile URL for John Doe: {profile_url}\")\n",
    "        \n",
    "        \n",
    "In this example, we've defined two routes: '/' for the index page and '/user/<username>' for user profiles. Inside the if __name__ == '__main__': block, we use app.test_request_context() to simulate a request context, which is necessary for the url_for() function to work correctly. We then use the url_for() function to generate URLs for the defined routes. The generated URLs are printed to the console.\n",
    "\n",
    "When you run this code and visit the generated URLs, you'll see that the url_for() function has correctly built the URLs based on the defined routes and provided parameters.\n",
    "\n",
    "\n",
    "\n",
    "\n",
    "\n",
    "\n"
   ]
  }
 ],
 "metadata": {
  "kernelspec": {
   "display_name": "Python 3 (ipykernel)",
   "language": "python",
   "name": "python3"
  },
  "language_info": {
   "codemirror_mode": {
    "name": "ipython",
    "version": 3
   },
   "file_extension": ".py",
   "mimetype": "text/x-python",
   "name": "python",
   "nbconvert_exporter": "python",
   "pygments_lexer": "ipython3",
   "version": "3.10.8"
  }
 },
 "nbformat": 4,
 "nbformat_minor": 5
}
